{
 "cells": [
  {
   "cell_type": "markdown",
   "source": [
    "# Trânsito de Vênus de 5 a 6 de junho de 2012\n",
    "_Imagens da sonda SDO/AIA (Atmospheric Imaging Assembly) no comprimento de onda de 4500 Å (visível) ou 1600 Å/1700 Å (UV), que mostram bem o disco solar e o planeta escuro passando na frente._"
   ],
   "metadata": {}
  },
  {
   "cell_type": "markdown",
   "source": [
    "Dependências: sunpy, matplotlib, astropy, numpy.\n",
    "\n",
    "O canal de 1700 Å é uma boa escolha para esse evento; 4500 Å está disponível em algumas bases, mas menos comum.\n",
    "\n",
    "O método np.nansum ignora valores NaN que podem estar na borda.\n",
    "\n",
    "Se quiser usar toda a imagem, substitua submap por m.data."
   ],
   "metadata": {}
  },
  {
   "cell_type": "code",
   "execution_count": 1,
   "source": [
    "import matplotlib.pyplot as plt\n",
    "import numpy as np\n",
    "from sunpy.net import Fido, attrs as a\n",
    "from sunpy.map import Map\n",
    "from sunpy.time import parse_time\n",
    "from astropy.time import Time\n",
    "import astropy.units as u"
   ],
   "outputs": [
    {
     "output_type": "stream",
     "name": "stderr",
     "text": [
      "/Library/Frameworks/Python.framework/Versions/3.9/lib/python3.9/site-packages/tqdm/auto.py:22: TqdmWarning: IProgress not found. Please update jupyter and ipywidgets. See https://ipywidgets.readthedocs.io/en/stable/user_install.html\n",
      "  from .autonotebook import tqdm as notebook_tqdm\n"
     ]
    }
   ],
   "metadata": {}
  },
  {
   "cell_type": "code",
   "execution_count": 2,
   "source": [
    "# 1. Buscar dados do SDO/AIA durante o trânsito de Vênus (5-6 de junho de 2012)\n",
    "start_time = \"2012-06-05 22:00\"\n",
    "end_time = \"2012-06-06 04:00\"\n",
    "wavelength = 1700 * u.angstrom  # Visível, pode trocar por 4500 se quiser\n",
    "\n",
    "result = Fido.search(\n",
    "    a.Time(start_time, end_time),\n",
    "    a.Instrument.aia,\n",
    "    a.Wavelength(wavelength),\n",
    "    a.Sample(10 * u.minute) # amostragem a cada 10 minutos\n",
    ")\n",
    "\n",
    "print(f\"Imagens encontradas: {len(result[0])}\")\n",
    "\n",
    "# 2. Download (pequeno conjunto para teste)\n",
    "downloaded = Fido.fetch(result[0][:30])  # baixa apenas as 30 primeiras para evitar excesso\n",
    "\n",
    "# 3. Processar cada imagem e calcular o brilho total (soma dos pixels)\n",
    "times = []\n",
    "fluxes = []\n",
    "\n",
    "for filepath in downloaded:\n",
    "    m = Map(filepath)\n",
    "    \n",
    "    # Opcional: recortar o disco solar para excluir bordas ou artefatos\n",
    "    submap = m.submap(\n",
    "        bottom_left=m.center - [500*u.arcsec, 500*u.arcsec],\n",
    "        top_right=m.center + [500*u.arcsec, 500*u.arcsec]\n",
    "    )\n",
    "    \n",
    "    # Brilho total = soma de intensidades\n",
    "    total_flux = np.nansum(submap.data)\n",
    "    fluxes.append(total_flux)\n",
    "    times.append(parse_time(m.date))\n",
    "\n",
    "# 4. Plotar curva de luz\n",
    "plt.figure(figsize=(10, 5))\n",
    "plt.plot_date(Time(times).plot_date, fluxes, '-o', label='Fluxo Solar')\n",
    "plt.title(\"Curva de Luz do Trânsito de Vênus (SDO/AIA 1700 Å)\")\n",
    "plt.xlabel(\"Tempo (UTC)\")\n",
    "plt.ylabel(\"Fluxo Integrado (adu)\")\n",
    "plt.grid(True)\n",
    "plt.legend()\n",
    "plt.tight_layout()\n",
    "plt.show()\n"
   ],
   "outputs": [
    {
     "output_type": "stream",
     "name": "stdout",
     "text": [
      "Imagens encontradas: 36\n"
     ]
    },
    {
     "output_type": "stream",
     "name": "stderr",
     "text": [
      "Files Downloaded:   0%|          | 0/30 [00:00<?, ?file/s]"
     ]
    }
   ],
   "metadata": {}
  }
 ],
 "metadata": {
  "orig_nbformat": 4,
  "language_info": {
   "name": "python",
   "version": "3.9.10",
   "mimetype": "text/x-python",
   "codemirror_mode": {
    "name": "ipython",
    "version": 3
   },
   "pygments_lexer": "ipython3",
   "nbconvert_exporter": "python",
   "file_extension": ".py"
  },
  "kernelspec": {
   "name": "python3",
   "display_name": "Python 3.9.10 64-bit"
  },
  "interpreter": {
   "hash": "aee8b7b246df8f9039afb4144a1f6fd8d2ca17a180786b69acc140d282b71a49"
  }
 },
 "nbformat": 4,
 "nbformat_minor": 2
}