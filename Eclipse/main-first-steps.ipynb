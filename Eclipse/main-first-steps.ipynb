{
 "cells": [
  {
   "cell_type": "code",
   "execution_count": 1,
   "source": [
    "#imports\n",
    "import numpy as np\n",
    "from matplotlib import pyplot\n",
    "from Star.Estrela import Estrela\n",
    "from Planet.Eclipse import Eclipse\n",
    "from Planet.Planeta import Planeta\n",
    "from Planet.Moon import Moon\n",
    "from Misc.Verify  import Validar,calSemiEixo,calculaLat\n",
    "import cv2 as cv\n",
    "import numpy as np\n",
    "\n",
    "%matplotlib tk"
   ],
   "outputs": [],
   "metadata": {}
  },
  {
   "cell_type": "markdown",
   "source": [
    "## Modelando a Estrela"
   ],
   "metadata": {}
  },
  {
   "cell_type": "code",
   "execution_count": 2,
   "source": [
    "raio_estrela_pixel = 373. # default (pixel)\n",
    "intensidade_maxima = 240 # default\n",
    "tamanho_matriz = 856 # default\n",
    "raio_estrela = 0.805 # raio da estrela em relacao ao raio do sol\n",
    "coeficiente_um = 0.377\n",
    "coeficiente_dois = 0.024\n",
    "\n",
    "#cria estrela\n",
    "estrela_ = Estrela(raio_estrela_pixel, raio_estrela, intensidade_maxima, coeficiente_um, coeficiente_dois, tamanho_matriz)\n",
    "\n",
    "Nx = estrela_.getNx() #Nx e Ny necessarios para a plotagem do eclipse\n",
    "Ny = estrela_.getNy()\n",
    "dtor = np.pi/180.  "
   ],
   "outputs": [
    {
     "output_type": "error",
     "ename": "AttributeError",
     "evalue": "'Estrela' object has no attribute 'coeficienteTres'",
     "traceback": [
      "\u001b[0;31m---------------------------------------------------------------------------\u001b[0m",
      "\u001b[0;31mAttributeError\u001b[0m                            Traceback (most recent call last)",
      "\u001b[0;32m/var/folders/48/9j82btmj24b8w65xd01ctfsr0000gq/T/ipykernel_30857/2083624731.py\u001b[0m in \u001b[0;36m<cell line: 9>\u001b[0;34m()\u001b[0m\n\u001b[1;32m      7\u001b[0m \u001b[0;34m\u001b[0m\u001b[0m\n\u001b[1;32m      8\u001b[0m \u001b[0;31m#cria estrela\u001b[0m\u001b[0;34m\u001b[0m\u001b[0;34m\u001b[0m\u001b[0m\n\u001b[0;32m----> 9\u001b[0;31m \u001b[0mestrela_\u001b[0m \u001b[0;34m=\u001b[0m \u001b[0mEstrela\u001b[0m\u001b[0;34m(\u001b[0m\u001b[0mraio_estrela_pixel\u001b[0m\u001b[0;34m,\u001b[0m \u001b[0mraio_estrela\u001b[0m\u001b[0;34m,\u001b[0m \u001b[0mintensidade_maxima\u001b[0m\u001b[0;34m,\u001b[0m \u001b[0mcoeficiente_um\u001b[0m\u001b[0;34m,\u001b[0m \u001b[0mcoeficiente_dois\u001b[0m\u001b[0;34m,\u001b[0m \u001b[0mtamanho_matriz\u001b[0m\u001b[0;34m)\u001b[0m\u001b[0;34m\u001b[0m\u001b[0;34m\u001b[0m\u001b[0m\n\u001b[0m\u001b[1;32m     10\u001b[0m \u001b[0;34m\u001b[0m\u001b[0m\n\u001b[1;32m     11\u001b[0m \u001b[0mNx\u001b[0m \u001b[0;34m=\u001b[0m \u001b[0mestrela_\u001b[0m\u001b[0;34m.\u001b[0m\u001b[0mgetNx\u001b[0m\u001b[0;34m(\u001b[0m\u001b[0;34m)\u001b[0m \u001b[0;31m#Nx e Ny necessarios para a plotagem do eclipse\u001b[0m\u001b[0;34m\u001b[0m\u001b[0;34m\u001b[0m\u001b[0m\n",
      "\u001b[0;32m~/Projetos/eclipse-model-star-activity/Eclipse/Star/Estrela.py\u001b[0m in \u001b[0;36m__init__\u001b[0;34m(self, raio, raioSun, intensidadeMaxima, coeficienteHum, coeficienteDois, tamanhoMatriz)\u001b[0m\n\u001b[1;32m     62\u001b[0m         \u001b[0;31m#start = time.time()\u001b[0m\u001b[0;34m\u001b[0m\u001b[0;34m\u001b[0m\u001b[0m\n\u001b[1;32m     63\u001b[0m \u001b[0;34m\u001b[0m\u001b[0m\n\u001b[0;32m---> 64\u001b[0;31m         \u001b[0mself\u001b[0m\u001b[0;34m.\u001b[0m\u001b[0mestrelaMatriz\u001b[0m \u001b[0;34m=\u001b[0m \u001b[0mself\u001b[0m\u001b[0;34m.\u001b[0m\u001b[0mcriaEstrela\u001b[0m\u001b[0;34m(\u001b[0m\u001b[0;34m)\u001b[0m\u001b[0;34m\u001b[0m\u001b[0;34m\u001b[0m\u001b[0m\n\u001b[0m\u001b[1;32m     65\u001b[0m         \u001b[0mself\u001b[0m\u001b[0;34m.\u001b[0m\u001b[0mNx\u001b[0m \u001b[0;34m=\u001b[0m \u001b[0mself\u001b[0m\u001b[0;34m.\u001b[0m\u001b[0mtamanhoMatriz\u001b[0m\u001b[0;34m\u001b[0m\u001b[0;34m\u001b[0m\u001b[0m\n\u001b[1;32m     66\u001b[0m         \u001b[0mself\u001b[0m\u001b[0;34m.\u001b[0m\u001b[0mNy\u001b[0m \u001b[0;34m=\u001b[0m \u001b[0mself\u001b[0m\u001b[0;34m.\u001b[0m\u001b[0mtamanhoMatriz\u001b[0m\u001b[0;34m\u001b[0m\u001b[0;34m\u001b[0m\u001b[0m\n",
      "\u001b[0;32m~/Projetos/eclipse-model-star-activity/Eclipse/Star/Estrela.py\u001b[0m in \u001b[0;36mcriaEstrela\u001b[0;34m(self)\u001b[0m\n\u001b[1;32m    128\u001b[0m         \u001b[0;31m# Equacao com 4 coeficientes de limbo\u001b[0m\u001b[0;34m\u001b[0m\u001b[0;34m\u001b[0m\u001b[0m\n\u001b[1;32m    129\u001b[0m         \u001b[0;31m# Não linear de quatro termos (Claret)\u001b[0m\u001b[0;34m\u001b[0m\u001b[0;34m\u001b[0m\u001b[0m\n\u001b[0;32m--> 130\u001b[0;31m         \u001b[0;32mif\u001b[0m \u001b[0;34m(\u001b[0m\u001b[0mself\u001b[0m\u001b[0;34m.\u001b[0m\u001b[0mcoeficienteTres\u001b[0m \u001b[0;32mand\u001b[0m \u001b[0mself\u001b[0m\u001b[0;34m.\u001b[0m\u001b[0mcoeficienteQuatro\u001b[0m\u001b[0;34m)\u001b[0m\u001b[0;34m:\u001b[0m\u001b[0;34m\u001b[0m\u001b[0;34m\u001b[0m\u001b[0m\n\u001b[0m\u001b[1;32m    131\u001b[0m             \u001b[0mmy_func\u001b[0m\u001b[0;34m.\u001b[0m\u001b[0mcriaEstrelaClaret\u001b[0m\u001b[0;34m.\u001b[0m\u001b[0mrestype\u001b[0m \u001b[0;34m=\u001b[0m \u001b[0mndpointer\u001b[0m\u001b[0;34m(\u001b[0m\u001b[0mdtype\u001b[0m\u001b[0;34m=\u001b[0m\u001b[0mc_int\u001b[0m\u001b[0;34m,\u001b[0m \u001b[0mndim\u001b[0m\u001b[0;34m=\u001b[0m\u001b[0;36m2\u001b[0m\u001b[0;34m,\u001b[0m \u001b[0mshape\u001b[0m\u001b[0;34m=\u001b[0m\u001b[0;34m(\u001b[0m\u001b[0mself\u001b[0m\u001b[0;34m.\u001b[0m\u001b[0mtamanhoMatriz\u001b[0m\u001b[0;34m,\u001b[0m\u001b[0mself\u001b[0m\u001b[0;34m.\u001b[0m\u001b[0mtamanhoMatriz\u001b[0m\u001b[0;34m)\u001b[0m\u001b[0;34m)\u001b[0m\u001b[0;34m\u001b[0m\u001b[0;34m\u001b[0m\u001b[0m\n\u001b[1;32m    132\u001b[0m             estrelaMatriz = my_func.criaEstrelaClaret(linha,\n",
      "\u001b[0;31mAttributeError\u001b[0m: 'Estrela' object has no attribute 'coeficienteTres'"
     ]
    }
   ],
   "metadata": {}
  },
  {
   "cell_type": "markdown",
   "source": [
    "## Modelando o Planeta"
   ],
   "metadata": {}
  },
  {
   "cell_type": "code",
   "execution_count": 3,
   "source": [
    "periodo = 2.219 # em dias\n",
    "angulo_inclinacao = 85.51  # em graus\n",
    "ecc = 0 # excentricidade\n",
    "anomalia = 0 # anomalia\n",
    "raio_plan_Jup = 1.138 # em relação ao raio de jupiter\n",
    "semi_eixo_UA = 0.031 # UA\n",
    "mass_planeta = 1.138 #em relacao ao R de jupiter\n",
    "\n",
    "planeta_ = Planeta(semi_eixo_UA, raio_plan_Jup, periodo, angulo_inclinacao, ecc, anomalia, estrela_.getRaioSun(), mass_planeta)\n"
   ],
   "outputs": [
    {
     "output_type": "error",
     "ename": "NameError",
     "evalue": "name 'estrela_' is not defined",
     "traceback": [
      "\u001b[0;31m---------------------------------------------------------------------------\u001b[0m",
      "\u001b[0;31mNameError\u001b[0m                                 Traceback (most recent call last)",
      "\u001b[0;32m/var/folders/48/9j82btmj24b8w65xd01ctfsr0000gq/T/ipykernel_30857/1658573522.py\u001b[0m in \u001b[0;36m<cell line: 9>\u001b[0;34m()\u001b[0m\n\u001b[1;32m      7\u001b[0m \u001b[0mmass_planeta\u001b[0m \u001b[0;34m=\u001b[0m \u001b[0;36m1.138\u001b[0m \u001b[0;31m#em relacao ao R de jupiter\u001b[0m\u001b[0;34m\u001b[0m\u001b[0;34m\u001b[0m\u001b[0m\n\u001b[1;32m      8\u001b[0m \u001b[0;34m\u001b[0m\u001b[0m\n\u001b[0;32m----> 9\u001b[0;31m \u001b[0mplaneta_\u001b[0m \u001b[0;34m=\u001b[0m \u001b[0mPlaneta\u001b[0m\u001b[0;34m(\u001b[0m\u001b[0msemi_eixo_UA\u001b[0m\u001b[0;34m,\u001b[0m \u001b[0mraio_plan_Jup\u001b[0m\u001b[0;34m,\u001b[0m \u001b[0mperiodo\u001b[0m\u001b[0;34m,\u001b[0m \u001b[0mangulo_inclinacao\u001b[0m\u001b[0;34m,\u001b[0m \u001b[0mecc\u001b[0m\u001b[0;34m,\u001b[0m \u001b[0manomalia\u001b[0m\u001b[0;34m,\u001b[0m \u001b[0mestrela_\u001b[0m\u001b[0;34m.\u001b[0m\u001b[0mgetRaioSun\u001b[0m\u001b[0;34m(\u001b[0m\u001b[0;34m)\u001b[0m\u001b[0;34m,\u001b[0m \u001b[0mmass_planeta\u001b[0m\u001b[0;34m)\u001b[0m\u001b[0;34m\u001b[0m\u001b[0;34m\u001b[0m\u001b[0m\n\u001b[0m",
      "\u001b[0;31mNameError\u001b[0m: name 'estrela_' is not defined"
     ]
    }
   ],
   "metadata": {}
  },
  {
   "cell_type": "code",
   "execution_count": 4,
   "source": [
    "estrela_matriz = estrela_.getMatrizEstrela()\n",
    "estrela_.Plotar(tamanho_matriz, estrela_matriz)"
   ],
   "outputs": [],
   "metadata": {}
  },
  {
   "cell_type": "code",
   "execution_count": 5,
   "source": [
    "#eclipse\n",
    "eclipse_ = Eclipse(Nx,Ny,raio_estrela_pixel, estrela_, planeta_)\n",
    "estrela_.Plotar(tamanho_matriz, estrela_matriz)\n",
    "\n",
    "tempoHoras = 1\n",
    "eclipse_.geraTempoHoras(tempoHoras)\n",
    "eclipse_.criarEclipse(anim=True)\n",
    "\n",
    "print (\"Tempo Total (Trânsito):\", eclipse_.getTempoTransito()) \n",
    "tempoTransito = eclipse_.getTempoTransito()\n",
    "curvaLuz = eclipse_.getCurvaLuz()\n",
    "tempoHoras = eclipse_.getTempoHoras()\n",
    "\n",
    "#Plotagem da curva de luz \n",
    "pyplot.plot(tempoHoras, curvaLuz)\n",
    "pyplot.axis([-tempoTransito/2, tempoTransito/2, min(curvaLuz)-0.001, 1.001])                       \n",
    "pyplot.show()\n"
   ],
   "outputs": [
    {
     "output_type": "stream",
     "name": "stdout",
     "text": [
      "\n",
      "Aguarde um momento, a animacao do trânsito está sendo gerada...\n",
      "\n"
     ]
    },
    {
     "output_type": "stream",
     "name": "stderr",
     "text": [
      "2025-03-29 14:36:39.974 Python[30247:1212568] +[IMKClient subclass]: chose IMKClient_Modern\n",
      "2025-03-29 14:36:39.974 Python[30247:1212568] +[IMKInputSession subclass]: chose IMKInputSession_Modern\n"
     ]
    },
    {
     "output_type": "stream",
     "name": "stdout",
     "text": [
      "Tempo Total (Trânsito): 4.838149455534431\n"
     ]
    }
   ],
   "metadata": {}
  },
  {
   "cell_type": "markdown",
   "source": [
    "### Latitude sugerida"
   ],
   "metadata": {}
  },
  {
   "cell_type": "code",
   "execution_count": 6,
   "source": [
    "latsugerida = eclipse_.calculaLatMancha()"
   ],
   "outputs": [
    {
     "output_type": "stream",
     "name": "stdout",
     "text": [
      "A latitude sugerida para que a mancha influencie na curva de luz da estrela é: -39.492915547801104\n"
     ]
    }
   ],
   "metadata": {}
  },
  {
   "cell_type": "markdown",
   "source": [
    "# Modelando interferências na curva de Luz"
   ],
   "metadata": {}
  },
  {
   "cell_type": "markdown",
   "source": [
    "## Adicionando manchas\n",
    "***"
   ],
   "metadata": {}
  },
  {
   "cell_type": "code",
   "execution_count": 17,
   "source": [
    "raio_mancha = 0.05\n",
    "intensidade = 0.5 \n",
    "latitude = -39.40\n",
    "longitude = 40\n",
    "\n",
    "mancha = Estrela.Mancha(intensidade, raio_mancha, latitude, longitude)\n",
    "#mancha2 = Estrela.Mancha(0.6, 0.04, latitude, longitude) \n",
    "\n",
    "\n",
    "estrela_.addMancha(mancha)\n",
    "#estrela_.addMancha(mancha2) #caso queira adicionar mais manchas\n",
    "\n",
    "estrela_.criaEstrelaManchada()\n",
    "estrela_matriz = estrela_.getMatrizEstrela()"
   ],
   "outputs": [],
   "metadata": {}
  },
  {
   "cell_type": "markdown",
   "source": [
    "### Visualizar Eclipse com Manchas"
   ],
   "metadata": {}
  },
  {
   "cell_type": "code",
   "execution_count": 18,
   "source": [
    "# Eclipse\n",
    "cme = False \n",
    "\n",
    "# Passa para o eclipse a estrela atualizada\n",
    "eclipse_.setEstrela(estrela_matriz)\n",
    "\n",
    "estrela_.Plotar(tamanho_matriz, estrela_matriz)\n",
    "eclipse_.criarEclipse(cme, anim=True)\n",
    "\n",
    "print (\"Tempo Total (Trânsito):\",eclipse_.getTempoTransito()) \n",
    "tempoTransito = eclipse_.getTempoTransito()\n",
    "curvaLuz = eclipse_.getCurvaLuz()\n",
    "tempoHoras = eclipse_.getTempoHoras()\n",
    "\n",
    "#Plotagem da curva de luz \n",
    "pyplot.plot(tempoHoras,curvaLuz)\n",
    "pyplot.axis([-tempoTransito/2,tempoTransito/2,min(curvaLuz)-0.001,1.001])                       \n",
    "pyplot.show()"
   ],
   "outputs": [
    {
     "output_type": "stream",
     "name": "stdout",
     "text": [
      "\n",
      "Aguarde um momento, a animacao do trânsito está sendo gerada...\n",
      "\n",
      "LUA::::: remover nome\n",
      "Tempo Total (Trânsito): 4.838149455534431\n"
     ]
    }
   ],
   "metadata": {}
  },
  {
   "cell_type": "markdown",
   "source": [
    "## Adicionando fáculas\n",
    "***"
   ],
   "metadata": {}
  },
  {
   "cell_type": "code",
   "execution_count": 18,
   "source": [
    "raio_fácula = 0.07\n",
    "intensidade_facula = 1.2 \n",
    "latitude_facula = -39\n",
    "longitude_facula = 20\n",
    "\n",
    "facula = Estrela.Facula(intensidade_facula, raio_fácula, latitude_facula, longitude_facula)\n",
    "#facula2 = Estrela.Facula(1.5, 0.08, latitude_facula, longitude_facula) #caso queira adicionar mais fáculas\n",
    "\n",
    "\n",
    "estrela_.addFacula(facula)\n",
    "#estrela_.addFacula(facula2)\n",
    "\n",
    "estrela_.criaEstrelaComFaculas()\n",
    "estrela_matriz = estrela_.getMatrizEstrela()"
   ],
   "outputs": [],
   "metadata": {}
  },
  {
   "cell_type": "code",
   "execution_count": 19,
   "source": [
    "# Eclipse\n",
    "\n",
    "# Passa para o eclipse a estrela atualizada\n",
    "eclipse_.setEstrela(estrela_matriz)\n",
    "\n",
    "estrela_.Plotar(tamanho_matriz, estrela_matriz)\n",
    "eclipse_.criarEclipse(anim=True)\n",
    "\n",
    "print (\"Tempo Total (Trânsito):\",eclipse_.getTempoTransito()) \n",
    "tempoTransito = eclipse_.getTempoTransito()\n",
    "curvaLuz = eclipse_.getCurvaLuz()\n",
    "tempoHoras = eclipse_.getTempoHoras()\n",
    "\n",
    "#Plotagem da curva de luz \n",
    "pyplot.plot(tempoHoras,curvaLuz)\n",
    "pyplot.axis([-tempoTransito/2,tempoTransito/2,min(curvaLuz)-0.001,1.001])                       \n",
    "pyplot.show()"
   ],
   "outputs": [
    {
     "output_type": "stream",
     "name": "stdout",
     "text": [
      "\n",
      "Aguarde um momento, a animacao do trânsito está sendo gerada...\n",
      "\n",
      "Tempo Total (Trânsito): 4.838149455534431\n"
     ]
    }
   ],
   "metadata": {}
  },
  {
   "cell_type": "markdown",
   "source": [
    "## Adicionando luas\n",
    "***"
   ],
   "metadata": {}
  },
  {
   "cell_type": "code",
   "execution_count": 15,
   "source": [
    "rmoon = 50 #em relacao ao raio da Terra\n",
    "mass = 0.5 #em relacao a massa da Terra\n",
    "perLua = 0.03 #em dias \n",
    "\n",
    "moon = Moon(rmoon, mass, perLua, tempoHoras, planeta_.anguloInclinacao, planeta_.mass, estrela_.raio, planeta_.getRaioPlanPixel(estrela_.raio, estrela_.raioSun), estrela_.getRaioSun(), planeta_.periodo)\n",
    "\n",
    "eclipse_.criarLua(moon) #adiciona lua no planeta que esta no eclipse\n",
    "\n",
    "# Criando planeta com lua \n",
    "estrela_matriz = estrela_.getMatrizEstrela()\n",
    "\n",
    "# Passa para o eclipse a estrela atualizada\n",
    "eclipse_.setEstrela(estrela_matriz)"
   ],
   "outputs": [],
   "metadata": {}
  },
  {
   "cell_type": "markdown",
   "source": [
    "### Analisando curva de luz"
   ],
   "metadata": {}
  },
  {
   "cell_type": "code",
   "execution_count": 16,
   "source": [
    "#eclipse\n",
    "moon.setMoonName(\"remover nome\")\n",
    "estrela_.Plotar(tamanho_matriz, estrela_matriz)\n",
    "eclipse_.criarEclipse(anim=True)\n",
    "\n",
    "print (\"Tempo Total (Trânsito):\", eclipse_.getTempoTransito()) \n",
    "tempoTransito = eclipse_.getTempoTransito()\n",
    "curvaLuz = eclipse_.getCurvaLuz()\n",
    "tempoHoras = eclipse_.getTempoHoras()\n",
    "\n",
    "#Plotagem da curva de luz \n",
    "pyplot.plot(tempoHoras,curvaLuz)\n",
    "pyplot.axis([-tempoTransito/2,tempoTransito/2,min(curvaLuz)-0.001,1.001])                       \n",
    "pyplot.show()"
   ],
   "outputs": [
    {
     "output_type": "stream",
     "name": "stdout",
     "text": [
      "\n",
      "Aguarde um momento, a animacao do trânsito está sendo gerada...\n",
      "\n",
      "LUA::::: remover nome\n",
      "Tempo Total (Trânsito): 4.838149455534431\n"
     ]
    }
   ],
   "metadata": {}
  },
  {
   "cell_type": "markdown",
   "source": [
    "## Adicionando CMEs\n",
    "***"
   ],
   "metadata": {}
  },
  {
   "cell_type": "markdown",
   "source": [
    "_A análise à seguir é realizada apenas a fins de demonstração e visualização, já que CMEs são observadas apenas em comprimentos de onda UV e EUV_"
   ],
   "metadata": {}
  },
  {
   "cell_type": "code",
   "execution_count": 7,
   "source": [
    "estrela_matriz = estrela_.getMatrizEstrela()\n",
    "\n",
    "temperatura_cme = estrela_.temperaturaEfetiva # temperatura da CME (em K) 4875.0\n",
    "raio_cme = 50 # em ??\n",
    "distancia_planeta = 0 #em km d = semi-eixoau*1.5e8\n",
    "velocidade_cme = 0 #tempo = d / v_CME\n",
    "opacidade = 0.3\n",
    "p0x = 400\n",
    "p0y = 220\n",
    "p1x = 410\n",
    "p1y = 250\n",
    "taxa_esfriamento = 1.5\n",
    "cme = Estrela.EjecaoMassa(raio_cme, p0x, p0y, p1x, p1y, opacidade, temperatura_cme, velocidade_cme, taxa_esfriamento)\n",
    "\n",
    "estrela_.addCme(cme)\n",
    "#estrela_.ejecaoDeMassa(temperatura_cme, raio_cme)"
   ],
   "outputs": [],
   "metadata": {}
  },
  {
   "cell_type": "code",
   "execution_count": 8,
   "source": [
    "#eclipse\n",
    "eclipse_.setEstrela(estrela_matriz)\n",
    "estrela_.Plotar(tamanho_matriz, estrela_matriz)\n",
    "eclipse_.criarEclipse(anim=True)\n",
    "\n",
    "print (\"Tempo Total (Trânsito):\",eclipse_.getTempoTransito()) \n",
    "tempoTransito = eclipse_.getTempoTransito()\n",
    "curvaLuz = eclipse_.getCurvaLuz()\n",
    "tempoHoras = eclipse_.getTempoHoras()\n",
    "\n",
    "#Plotagem da curva de luz \n",
    "pyplot.plot(tempoHoras,curvaLuz)\n",
    "pyplot.axis([-tempoTransito/2,tempoTransito/2,min(curvaLuz)-0.001,1.001])                       \n",
    "pyplot.show()"
   ],
   "outputs": [
    {
     "output_type": "stream",
     "name": "stdout",
     "text": [
      "\n",
      "Aguarde um momento, a animacao do trânsito está sendo gerada...\n",
      "\n",
      "Tempo Total (Trânsito): 4.838149455534431\n"
     ]
    }
   ],
   "metadata": {}
  }
 ],
 "metadata": {
  "orig_nbformat": 4,
  "language_info": {
   "name": "python",
   "version": "3.9.10",
   "mimetype": "text/x-python",
   "codemirror_mode": {
    "name": "ipython",
    "version": 3
   },
   "pygments_lexer": "ipython3",
   "nbconvert_exporter": "python",
   "file_extension": ".py"
  },
  "kernelspec": {
   "name": "python3",
   "display_name": "Python 3.9.10 64-bit"
  },
  "interpreter": {
   "hash": "aee8b7b246df8f9039afb4144a1f6fd8d2ca17a180786b69acc140d282b71a49"
  }
 },
 "nbformat": 4,
 "nbformat_minor": 2
}