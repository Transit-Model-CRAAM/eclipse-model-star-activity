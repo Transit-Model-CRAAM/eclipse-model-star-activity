{
 "cells": [
  {
   "cell_type": "code",
   "execution_count": 1,
   "metadata": {},
   "outputs": [],
   "source": [
    "#imports\n",
    "import numpy as np\n",
    "from matplotlib import pyplot\n",
    "from Star.Estrela import Estrela\n",
    "from Planet.Eclipse import Eclipse\n",
    "from Planet.Planeta import Planeta\n",
    "from Planet.Moon import Moon\n",
    "from Misc.Verify  import Validar,calSemiEixo,calculaLat\n",
    "import cv2 as cv\n",
    "import numpy as np\n",
    "\n",
    "%matplotlib tk"
   ]
  },
  {
   "cell_type": "markdown",
   "metadata": {},
   "source": [
    "## Modelando a Estrela"
   ]
  },
  {
   "cell_type": "code",
   "execution_count": 2,
   "metadata": {},
   "outputs": [],
   "source": [
    "raio_estrela_pixel = 373. # default (pixel)\n",
    "intensidade_maxima = 240 # default\n",
    "tamanho_matriz = 856 # default\n",
    "raio_estrela = 0.805 # raio da estrela em relacao ao raio do sol\n",
    "coeficiente_um = 0.377\n",
    "coeficiente_dois = 0.024\n",
    "\n",
    "#cria estrela\n",
    "estrela_ = Estrela(raio_estrela_pixel, raio_estrela, intensidade_maxima, coeficiente_um, coeficiente_dois, tamanho_matriz, useFits = False)\n",
    "tamanho_matriz = estrela_.getTamanhoMatriz()\n",
    "\n",
    "Nx = estrela_.getNx() #Nx e Ny necessarios para a plotagem do eclipse\n",
    "Ny = estrela_.getNy()\n",
    "dtor = np.pi/180.  "
   ]
  },
  {
   "cell_type": "markdown",
   "metadata": {},
   "source": [
    "## Modelando o Planeta"
   ]
  },
  {
   "cell_type": "code",
   "execution_count": 3,
   "metadata": {},
   "outputs": [
    {
     "name": "stdout",
     "output_type": "stream",
     "text": [
      "0.14192880717761738\n"
     ]
    }
   ],
   "source": [
    "periodo = 2.219 # em dias\n",
    "angulo_inclinacao = 85.51  # em graus\n",
    "ecc = 0 # excentricidade\n",
    "anomalia = 0 # anomalia\n",
    "raio_plan_Jup = 1.138 # em relação ao raio de jupiter\n",
    "semi_eixo_UA = 0.031 # UA\n",
    "mass_planeta = 1.138 #em relacao ao R de jupiter\n",
    "\n",
    "planeta_ = Planeta(semi_eixo_UA, raio_plan_Jup, periodo, angulo_inclinacao, ecc, anomalia, estrela_.getRaioSun(), mass_planeta)\n",
    "\n",
    "print(planeta_.getRaioPlan())\n"
   ]
  },
  {
   "cell_type": "code",
   "execution_count": 4,
   "metadata": {},
   "outputs": [],
   "source": [
    "estrela_matriz = estrela_.getMatrizEstrela()\n",
    "estrela_.Plotar(tamanho_matriz, estrela_matriz)"
   ]
  },
  {
   "cell_type": "code",
   "execution_count": 5,
   "metadata": {},
   "outputs": [
    {
     "name": "stdout",
     "output_type": "stream",
     "text": [
      "\n",
      "Aguarde um momento, a animacao do trânsito está sendo gerada...\n",
      "\n",
      "Tempo Total (Trânsito): 4.838149455534431\n"
     ]
    }
   ],
   "source": [
    "#eclipse\n",
    "eclipse_ = Eclipse(Nx, Ny, raio_estrela_pixel, estrela_, planeta_)\n",
    "estrela_.Plotar(tamanho_matriz, estrela_matriz)\n",
    "\n",
    "tempoHoras = 1\n",
    "eclipse_.geraTempoHoras(tempoHoras)\n",
    "eclipse_.criarEclipse(anim=True)\n",
    "\n",
    "print (\"Tempo Total (Trânsito):\", eclipse_.getTempoTransito()) \n",
    "tempoTransito = eclipse_.getTempoTransito()\n",
    "curvaLuz = eclipse_.getCurvaLuz()\n",
    "tempoHoras = eclipse_.getTempoHoras()\n",
    "\n",
    "#Plotagem da curva de luz \n",
    "pyplot.plot(tempoHoras, curvaLuz)\n",
    "pyplot.axis([-tempoTransito/2, tempoTransito/2, min(curvaLuz)-0.001, 1.001])                       \n",
    "pyplot.show()\n"
   ]
  },
  {
   "cell_type": "markdown",
   "metadata": {},
   "source": [
    "### Latitude sugerida"
   ]
  },
  {
   "cell_type": "code",
   "execution_count": 13,
   "metadata": {},
   "outputs": [
    {
     "name": "stdout",
     "output_type": "stream",
     "text": [
      "A latitude sugerida para que a mancha influencie na curva de luz da estrela é: -39.492915547801104\n"
     ]
    }
   ],
   "source": [
    "latsugerida = eclipse_.calculaLatMancha()"
   ]
  },
  {
   "cell_type": "markdown",
   "metadata": {},
   "source": [
    "# Modelando interferências na curva de Luz"
   ]
  },
  {
   "cell_type": "markdown",
   "metadata": {},
   "source": [
    "## Adicionando manchas\n",
    "***"
   ]
  },
  {
   "cell_type": "code",
   "execution_count": 23,
   "metadata": {},
   "outputs": [],
   "source": [
    "raio_mancha = 0.05\n",
    "intensidade = 0.5 \n",
    "latitude = -39.40\n",
    "longitude = 10\n",
    "\n",
    "mancha = Estrela.Mancha(intensidade, raio_mancha, latitude, longitude)\n",
    "#mancha2 = Estrela.Mancha(0.6, 0.04, latitude, longitude) \n",
    "\n",
    "\n",
    "estrela_.addMancha(mancha)\n",
    "#estrela_.addMancha(mancha2) #caso queira adicionar mais manchas\n",
    "\n",
    "estrela_.criaEstrelaManchada()\n",
    "estrela_matriz = estrela_.getMatrizEstrela()"
   ]
  },
  {
   "cell_type": "markdown",
   "metadata": {},
   "source": [
    "### Visualizar Eclipse com Manchas"
   ]
  },
  {
   "cell_type": "code",
   "execution_count": 24,
   "metadata": {},
   "outputs": [
    {
     "name": "stdout",
     "output_type": "stream",
     "text": [
      "\n",
      "Aguarde um momento, a animacao do trânsito está sendo gerada...\n",
      "\n",
      "Tempo Total (Trânsito): 4.838149455534431\n"
     ]
    }
   ],
   "source": [
    "# Eclipse\n",
    "cme = False \n",
    "\n",
    "# Passa para o eclipse a estrela atualizada\n",
    "eclipse_.setEstrela(estrela_matriz)\n",
    "\n",
    "estrela_.Plotar(tamanho_matriz, estrela_matriz)\n",
    "eclipse_.criarEclipse(anim=True)\n",
    "\n",
    "print (\"Tempo Total (Trânsito):\",eclipse_.getTempoTransito()) \n",
    "tempoTransito = eclipse_.getTempoTransito()\n",
    "curvaLuz = eclipse_.getCurvaLuz()\n",
    "tempoHoras = eclipse_.getTempoHoras()\n",
    "\n",
    "#Plotagem da curva de luz \n",
    "pyplot.plot(tempoHoras,curvaLuz)\n",
    "pyplot.axis([-tempoTransito/2,tempoTransito/2,min(curvaLuz)-0.001,1.001])                       \n",
    "pyplot.show()"
   ]
  },
  {
   "cell_type": "markdown",
   "metadata": {},
   "source": [
    "## Adicionando fáculas\n",
    "***"
   ]
  },
  {
   "cell_type": "code",
   "execution_count": 20,
   "metadata": {},
   "outputs": [],
   "source": [
    "raio_fácula = 0.09\n",
    "intensidade_facula = 1.5\n",
    "latitude_facula = -39\n",
    "longitude_facula = 20\n",
    "\n",
    "facula = Estrela.Facula(intensidade_facula, raio_fácula, latitude_facula, longitude_facula)\n",
    "#facula2 = Estrela.Facula(1.5, 0.08, latitude_facula, longitude_facula) #caso queira adicionar mais fáculas\n",
    "\n",
    "\n",
    "estrela_.addFacula(facula)\n",
    "#estrela_.addFacula(facula2)\n",
    "\n",
    "estrela_.criaEstrelaComFaculas()\n",
    "estrela_matriz = estrela_.getMatrizEstrela()"
   ]
  },
  {
   "cell_type": "code",
   "execution_count": 21,
   "metadata": {},
   "outputs": [
    {
     "name": "stdout",
     "output_type": "stream",
     "text": [
      "\n",
      "Aguarde um momento, a animacao do trânsito está sendo gerada...\n",
      "\n",
      "Tempo Total (Trânsito): 4.838149455534431\n"
     ]
    }
   ],
   "source": [
    "# Eclipse\n",
    "\n",
    "# Passa para o eclipse a estrela atualizada\n",
    "eclipse_.setEstrela(estrela_matriz)\n",
    "\n",
    "estrela_.Plotar(tamanho_matriz, estrela_matriz)\n",
    "eclipse_.criarEclipse(anim=True)\n",
    "\n",
    "print (\"Tempo Total (Trânsito):\",eclipse_.getTempoTransito()) \n",
    "tempoTransito = eclipse_.getTempoTransito()\n",
    "curvaLuz = eclipse_.getCurvaLuz()\n",
    "tempoHoras = eclipse_.getTempoHoras()\n",
    "\n",
    "#Plotagem da curva de luz \n",
    "pyplot.plot(tempoHoras,curvaLuz)\n",
    "pyplot.axis([-tempoTransito/2,tempoTransito/2,min(curvaLuz)-0.001,1.001])                       \n",
    "pyplot.show()"
   ]
  },
  {
   "cell_type": "markdown",
   "metadata": {},
   "source": [
    "## Adicionando luas\n",
    "***"
   ]
  },
  {
   "cell_type": "code",
   "execution_count": 20,
   "metadata": {},
   "outputs": [],
   "source": [
    "rmoon = 50 #em relacao ao raio da Terra\n",
    "mass = 0.5 #em relacao a massa da Terra\n",
    "perLua = 0.03 #em dias \n",
    "\n",
    "moon = Moon(rmoon, mass, perLua, tempoHoras, planeta_.anguloInclinacao, planeta_.mass, estrela_.raio, planeta_.getRaioPlanPixel(estrela_.raio, estrela_.raioSun), estrela_.getRaioSun(), planeta_.periodo)\n",
    "\n",
    "eclipse_.criarLua(moon) #adiciona lua no planeta que esta no eclipse\n",
    "\n",
    "# Criando planeta com lua \n",
    "estrela_matriz = estrela_.getMatrizEstrela()\n",
    "\n",
    "# Passa para o eclipse a estrela atualizada\n",
    "eclipse_.setEstrela(estrela_matriz)"
   ]
  },
  {
   "cell_type": "markdown",
   "metadata": {},
   "source": [
    "### Analisando curva de luz"
   ]
  },
  {
   "cell_type": "code",
   "execution_count": 21,
   "metadata": {},
   "outputs": [
    {
     "name": "stdout",
     "output_type": "stream",
     "text": [
      "\n",
      "Aguarde um momento, a animacao do trânsito está sendo gerada...\n",
      "\n",
      "LUA::::: remover nome\n",
      "Tempo Total (Trânsito): 4.838149455534431\n"
     ]
    }
   ],
   "source": [
    "#eclipse\n",
    "moon.setMoonName(\"remover nome\")\n",
    "estrela_.Plotar(tamanho_matriz, estrela_matriz)\n",
    "eclipse_.criarEclipse(anim=True)\n",
    "\n",
    "print (\"Tempo Total (Trânsito):\", eclipse_.getTempoTransito()) \n",
    "tempoTransito = eclipse_.getTempoTransito()\n",
    "curvaLuz = eclipse_.getCurvaLuz()\n",
    "tempoHoras = eclipse_.getTempoHoras()\n",
    "\n",
    "#Plotagem da curva de luz \n",
    "pyplot.plot(tempoHoras,curvaLuz)\n",
    "pyplot.axis([-tempoTransito/2,tempoTransito/2,min(curvaLuz)-0.001,1.001])                       \n",
    "pyplot.show()"
   ]
  },
  {
   "cell_type": "markdown",
   "metadata": {},
   "source": [
    "## Adicionando CMEs\n",
    "***"
   ]
  },
  {
   "cell_type": "markdown",
   "metadata": {},
   "source": [
    "_A análise à seguir é realizada apenas a fins de demonstração e visualização, já que CMEs são observadas apenas em comprimentos de onda UV e EUV_"
   ]
  },
  {
   "cell_type": "code",
   "execution_count": 11,
   "metadata": {},
   "outputs": [],
   "source": [
    "estrel_amatriz = estrela_.getMatrizEstrela()\n",
    "\n",
    "temperatura_cme = estrela_.temperaturaEfetiva-800 # temperatura da CME (em K) 4875.0\n",
    "raio_cme = 50 # em ??\n",
    "distancia_planeta = 0 #em km d = semi-eixoau*1.5e8\n",
    "velocidade_cme = 0.5 #tempo = d / v_CME\n",
    "opacidade = 0.3\n",
    "p0x = 400\n",
    "p0y = 220\n",
    "p1x = 410\n",
    "p1y = 250\n",
    "taxa_esfriamento = 10\n",
    "cme = Estrela.EjecaoMassa(raio_cme, p0x, p0y, p1x, p1y, opacidade, temperatura_cme, velocidade_cme, taxa_esfriamento)\n",
    "\n",
    "estrela_.addCme(cme)"
   ]
  },
  {
   "cell_type": "code",
   "execution_count": 12,
   "metadata": {},
   "outputs": [
    {
     "name": "stdout",
     "output_type": "stream",
     "text": [
      "\n",
      "Aguarde um momento, a animacao do trânsito está sendo gerada...\n",
      "\n",
      "Tempo Total (Trânsito): 4.838149455534431\n"
     ]
    }
   ],
   "source": [
    "#eclipse\n",
    "eclipse_.setEstrela(estrela_matriz)\n",
    "estrela_.Plotar(tamanho_matriz, estrela_matriz)\n",
    "eclipse_.criarEclipse(anim=True)\n",
    "\n",
    "print (\"Tempo Total (Trânsito):\",eclipse_.getTempoTransito()) \n",
    "tempoTransito = eclipse_.getTempoTransito()\n",
    "curvaLuz = eclipse_.getCurvaLuz()\n",
    "tempoHoras = eclipse_.getTempoHoras()\n",
    "\n",
    "#Plotagem da curva de luz \n",
    "pyplot.plot(tempoHoras,curvaLuz)\n",
    "pyplot.axis([-tempoTransito/2,tempoTransito/2,min(curvaLuz)-0.001,1.001])                       \n",
    "pyplot.show()"
   ]
  }
 ],
 "metadata": {
  "kernelspec": {
   "display_name": "Python 3",
   "language": "python",
   "name": "python3"
  },
  "language_info": {
   "codemirror_mode": {
    "name": "ipython",
    "version": 3
   },
   "file_extension": ".py",
   "mimetype": "text/x-python",
   "name": "python",
   "nbconvert_exporter": "python",
   "pygments_lexer": "ipython3",
   "version": "3.9.10"
  },
  "orig_nbformat": 4
 },
 "nbformat": 4,
 "nbformat_minor": 2
}
