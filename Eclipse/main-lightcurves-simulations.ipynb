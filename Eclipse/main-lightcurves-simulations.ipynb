{
 "cells": [
  {
   "cell_type": "markdown",
   "source": [
    "# Comparando curvas de luz (com CME e Sem CMEs)"
   ],
   "metadata": {}
  },
  {
   "cell_type": "code",
   "execution_count": 1,
   "source": [
    "#imports\n",
    "import numpy as np\n",
    "from matplotlib import pyplot\n",
    "from Star.Estrela import Estrela\n",
    "from Planet.Eclipse import Eclipse\n",
    "from Planet.Planeta import Planeta\n",
    "from Planet.Moon import Moon\n",
    "from Misc.Verify  import Validar,calSemiEixo,calculaLat\n",
    "import cv2 as cv\n",
    "import numpy as np\n",
    "\n",
    "%matplotlib tk"
   ],
   "outputs": [],
   "metadata": {}
  },
  {
   "cell_type": "markdown",
   "source": [
    "## Modelando a Estrela com CME"
   ],
   "metadata": {}
  },
  {
   "cell_type": "code",
   "execution_count": 2,
   "source": [
    "raio_estrela_pixel = 373. # default (pixel)\n",
    "intensidade_maxima = 240 # default\n",
    "tamanho_matriz = 856 # default\n",
    "raio_estrela = 0.805 # raio da estrela em relacao ao raio do sol\n",
    "coeficiente_um = 0.377\n",
    "coeficiente_dois = 0.024\n",
    "\n",
    "#cria estrela\n",
    "estrela_ = Estrela(raio_estrela_pixel, raio_estrela, intensidade_maxima, coeficiente_um, coeficiente_dois, tamanho_matriz, useFits = True, path=\"2011-06-05\")\n",
    "tamanho_matriz = estrela_.getTamanhoMatriz()\n",
    "\n",
    "Nx = estrela_.getNx() #Nx e Ny necessarios para a plotagem do eclipse\n",
    "Ny = estrela_.getNy()\n",
    "dtor = np.pi/180.  "
   ],
   "outputs": [],
   "metadata": {}
  },
  {
   "cell_type": "markdown",
   "source": [
    "## Modelando o Planeta"
   ],
   "metadata": {}
  },
  {
   "cell_type": "code",
   "execution_count": 3,
   "source": [
    "periodo = 2.219 # em dias\n",
    "angulo_inclinacao = 85.51  # em graus\n",
    "ecc = 0 # excentricidade\n",
    "anomalia = 0 # anomalia\n",
    "raio_plan_Jup = 1.138 # em relação ao raio de jupiter\n",
    "semi_eixo_UA = 0.031 # UA\n",
    "mass_planeta = 1.138 #em relacao ao R de jupiter\n",
    "\n",
    "planeta_ = Planeta(semi_eixo_UA, raio_plan_Jup, periodo, angulo_inclinacao, ecc, anomalia, estrela_.getRaioSun(), mass_planeta)\n",
    "\n",
    "print(planeta_.getRaioPlan())\n"
   ],
   "outputs": [
    {
     "output_type": "stream",
     "name": "stdout",
     "text": [
      "0.11425268977798202\n"
     ]
    }
   ],
   "metadata": {}
  },
  {
   "cell_type": "code",
   "execution_count": 4,
   "source": [
    "estrela_matriz = estrela_.getMatrizEstrela()\n",
    "estrela_.Plotar(tamanho_matriz, estrela_matriz)"
   ],
   "outputs": [],
   "metadata": {}
  },
  {
   "cell_type": "code",
   "execution_count": 5,
   "source": [
    "#eclipse\n",
    "eclipse_ = Eclipse(Nx, Ny, raio_estrela_pixel, estrela_, planeta_, 1)\n",
    "estrela_.Plotar(tamanho_matriz, estrela_matriz)\n",
    "\n",
    "tempoHoras = 1\n",
    "eclipse_.geraTempoHoras(tempoHoras)\n",
    "eclipse_.criarEclipse(anim=True)\n",
    "\n",
    "print (\"Tempo Total (Trânsito):\", eclipse_.getTempoTransito()) \n",
    "tempoTransito = eclipse_.getTempoTransito()\n",
    "curvaLuz = eclipse_.getCurvaLuz()\n",
    "tempoHoras = eclipse_.getTempoHoras()\n",
    "curvaLuz_1 = curvaLuz\n",
    "#Plotagem da curva de luz \n",
    "pyplot.plot(tempoHoras, curvaLuz)\n",
    "pyplot.axis([-tempoTransito/2, tempoTransito/2, min(curvaLuz)-0.001, 1.001])                       \n",
    "pyplot.show()\n"
   ],
   "outputs": [
    {
     "output_type": "stream",
     "name": "stdout",
     "text": [
      "\n",
      "Aguarde um momento, a animacao do trânsito está sendo gerada...\n",
      "\n",
      "Tempo Total (Trânsito): 6.699317837648663\n"
     ]
    }
   ],
   "metadata": {}
  },
  {
   "cell_type": "code",
   "execution_count": 6,
   "source": [
    "latsugerida = eclipse_.calculaLatMancha()"
   ],
   "outputs": [
    {
     "output_type": "stream",
     "name": "stdout",
     "text": [
      "A latitude sugerida para que a mancha influencie na curva de luz da estrela é: -30.794883579725727\n"
     ]
    }
   ],
   "metadata": {}
  },
  {
   "cell_type": "markdown",
   "source": [
    "# Modelando Estrela Sem CME"
   ],
   "metadata": {}
  },
  {
   "cell_type": "code",
   "execution_count": 7,
   "source": [
    "raio_estrela_pixel = 373. # default (pixel)\n",
    "intensidade_maxima = 240 # default\n",
    "tamanho_matriz = 856 # default\n",
    "raio_estrela = 0.805 # raio da estrela em relacao ao raio do sol\n",
    "coeficiente_um = 0.377\n",
    "coeficiente_dois = 0.024\n",
    "\n",
    "#cria estrela\n",
    "estrela_ = Estrela(raio_estrela_pixel, raio_estrela, intensidade_maxima, coeficiente_um, coeficiente_dois, tamanho_matriz, useFits = True, path=\"2011-06-05-pre-transit\")\n",
    "tamanho_matriz = estrela_.getTamanhoMatriz()\n",
    "\n",
    "Nx = estrela_.getNx() #Nx e Ny necessarios para a plotagem do eclipse\n",
    "Ny = estrela_.getNy()\n",
    "dtor = np.pi/180.  "
   ],
   "outputs": [],
   "metadata": {}
  },
  {
   "cell_type": "code",
   "execution_count": 8,
   "source": [
    "periodo = 2.219 # em dias\n",
    "angulo_inclinacao = 85.51  # em graus\n",
    "ecc = 0 # excentricidade\n",
    "anomalia = 0 # anomalia\n",
    "raio_plan_Jup = 1.138 # em relação ao raio de jupiter\n",
    "semi_eixo_UA = 0.031 # UA\n",
    "mass_planeta = 1.138 #em relacao ao R de jupiter\n",
    "\n",
    "planeta_ = Planeta(semi_eixo_UA, raio_plan_Jup, periodo, angulo_inclinacao, ecc, anomalia, estrela_.getRaioSun(), mass_planeta)\n",
    "\n",
    "print(planeta_.getRaioPlan())"
   ],
   "outputs": [
    {
     "output_type": "stream",
     "name": "stdout",
     "text": [
      "0.11425268977798202\n"
     ]
    }
   ],
   "metadata": {}
  },
  {
   "cell_type": "code",
   "execution_count": 9,
   "source": [
    "estrela_matriz = estrela_.getMatrizEstrela()\n",
    "estrela_.Plotar(tamanho_matriz, estrela_matriz)"
   ],
   "outputs": [],
   "metadata": {}
  },
  {
   "cell_type": "code",
   "execution_count": 10,
   "source": [
    "#eclipse\n",
    "eclipse_ = Eclipse(Nx, Ny, raio_estrela_pixel, estrela_, planeta_, 2)\n",
    "estrela_.Plotar(tamanho_matriz, estrela_matriz)\n",
    "\n",
    "tempoHoras = 1\n",
    "eclipse_.geraTempoHoras(tempoHoras)\n",
    "eclipse_.criarEclipse(anim=True)\n",
    "\n",
    "print (\"Tempo Total (Trânsito):\", eclipse_.getTempoTransito()) \n",
    "tempoTransito = eclipse_.getTempoTransito()\n",
    "curvaLuz = eclipse_.getCurvaLuz()\n",
    "tempoHoras = eclipse_.getTempoHoras()\n",
    "curvaLuz_2 = curvaLuz"
   ],
   "outputs": [
    {
     "output_type": "stream",
     "name": "stdout",
     "text": [
      "\n",
      "Aguarde um momento, a animacao do trânsito está sendo gerada...\n",
      "\n",
      "Tempo Total (Trânsito): 6.699317837648663\n"
     ]
    }
   ],
   "metadata": {}
  },
  {
   "cell_type": "markdown",
   "source": [
    "# Comparando resultados"
   ],
   "metadata": {}
  },
  {
   "cell_type": "code",
   "execution_count": 11,
   "source": [
    "#Plotagem da curva de luz \n",
    "pyplot.plot(tempoHoras, curvaLuz_1, color=\"red\")\n",
    "pyplot.plot(tempoHoras, curvaLuz_2, color= \"black\")\n",
    "\n",
    "pyplot.plot(tempoHoras, curvaLuz_1, color=\"red\", label=\"Curva de Luz com CME\")\n",
    "pyplot.plot(tempoHoras, curvaLuz_2, color=\"black\", label=\"Curva de Luz sem CME\")\n",
    "\n",
    "pyplot.xlabel(\"Tempo (horas)\")\n",
    "pyplot.ylabel(\"Intensidade Normalizada\")\n",
    "pyplot.legend()  # Mostra a legenda\n",
    "pyplot.title(\"Comparação entre curvas de luz com e sem CME\")\n",
    "pyplot.grid(True)\n",
    "pyplot.show()\n",
    "\n",
    "pyplot.axis([-tempoTransito/2, tempoTransito/2, min(curvaLuz)-0.001, 1.001])                       \n",
    "pyplot.show()"
   ],
   "outputs": [],
   "metadata": {}
  }
 ],
 "metadata": {
  "kernelspec": {
   "name": "python3",
   "display_name": "Python 3.9.10 64-bit"
  },
  "language_info": {
   "codemirror_mode": {
    "name": "ipython",
    "version": 3
   },
   "file_extension": ".py",
   "mimetype": "text/x-python",
   "name": "python",
   "nbconvert_exporter": "python",
   "pygments_lexer": "ipython3",
   "version": "3.9.10"
  },
  "orig_nbformat": 4,
  "interpreter": {
   "hash": "aee8b7b246df8f9039afb4144a1f6fd8d2ca17a180786b69acc140d282b71a49"
  }
 },
 "nbformat": 4,
 "nbformat_minor": 2
}